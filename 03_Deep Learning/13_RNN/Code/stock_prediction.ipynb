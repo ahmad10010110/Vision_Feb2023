{
 "cells": [
  {
   "cell_type": "code",
   "execution_count": 1,
   "id": "8719069b",
   "metadata": {},
   "outputs": [],
   "source": [
    "import numpy as np \n",
    "import pandas as pd \n",
    "import matplotlib.pyplot as plt"
   ]
  },
  {
   "cell_type": "code",
   "execution_count": 2,
   "id": "bca3b0dd",
   "metadata": {},
   "outputs": [],
   "source": [
    "data = pd.read_csv('META.csv')"
   ]
  },
  {
   "cell_type": "code",
   "execution_count": 3,
   "id": "11d586cd",
   "metadata": {},
   "outputs": [
    {
     "data": {
      "text/html": [
       "<div>\n",
       "<style scoped>\n",
       "    .dataframe tbody tr th:only-of-type {\n",
       "        vertical-align: middle;\n",
       "    }\n",
       "\n",
       "    .dataframe tbody tr th {\n",
       "        vertical-align: top;\n",
       "    }\n",
       "\n",
       "    .dataframe thead th {\n",
       "        text-align: right;\n",
       "    }\n",
       "</style>\n",
       "<table border=\"1\" class=\"dataframe\">\n",
       "  <thead>\n",
       "    <tr style=\"text-align: right;\">\n",
       "      <th></th>\n",
       "      <th>Date</th>\n",
       "      <th>Open</th>\n",
       "      <th>High</th>\n",
       "      <th>Low</th>\n",
       "      <th>Close</th>\n",
       "      <th>Adj Close</th>\n",
       "      <th>Volume</th>\n",
       "    </tr>\n",
       "  </thead>\n",
       "  <tbody>\n",
       "    <tr>\n",
       "      <th>0</th>\n",
       "      <td>2020-09-29</td>\n",
       "      <td>257.809998</td>\n",
       "      <td>263.329987</td>\n",
       "      <td>256.899994</td>\n",
       "      <td>261.790009</td>\n",
       "      <td>261.790009</td>\n",
       "      <td>20200200</td>\n",
       "    </tr>\n",
       "    <tr>\n",
       "      <th>1</th>\n",
       "      <td>2020-09-30</td>\n",
       "      <td>261.980011</td>\n",
       "      <td>266.079987</td>\n",
       "      <td>260.100006</td>\n",
       "      <td>261.899994</td>\n",
       "      <td>261.899994</td>\n",
       "      <td>20142500</td>\n",
       "    </tr>\n",
       "    <tr>\n",
       "      <th>2</th>\n",
       "      <td>2020-10-01</td>\n",
       "      <td>265.350006</td>\n",
       "      <td>268.329987</td>\n",
       "      <td>264.799988</td>\n",
       "      <td>266.630005</td>\n",
       "      <td>266.630005</td>\n",
       "      <td>20009800</td>\n",
       "    </tr>\n",
       "    <tr>\n",
       "      <th>3</th>\n",
       "      <td>2020-10-02</td>\n",
       "      <td>261.209991</td>\n",
       "      <td>265.149994</td>\n",
       "      <td>259.179993</td>\n",
       "      <td>259.940002</td>\n",
       "      <td>259.940002</td>\n",
       "      <td>16367600</td>\n",
       "    </tr>\n",
       "    <tr>\n",
       "      <th>4</th>\n",
       "      <td>2020-10-05</td>\n",
       "      <td>262.200012</td>\n",
       "      <td>264.869995</td>\n",
       "      <td>260.839996</td>\n",
       "      <td>264.649994</td>\n",
       "      <td>264.649994</td>\n",
       "      <td>12822300</td>\n",
       "    </tr>\n",
       "  </tbody>\n",
       "</table>\n",
       "</div>"
      ],
      "text/plain": [
       "         Date        Open        High         Low       Close   Adj Close  \\\n",
       "0  2020-09-29  257.809998  263.329987  256.899994  261.790009  261.790009   \n",
       "1  2020-09-30  261.980011  266.079987  260.100006  261.899994  261.899994   \n",
       "2  2020-10-01  265.350006  268.329987  264.799988  266.630005  266.630005   \n",
       "3  2020-10-02  261.209991  265.149994  259.179993  259.940002  259.940002   \n",
       "4  2020-10-05  262.200012  264.869995  260.839996  264.649994  264.649994   \n",
       "\n",
       "     Volume  \n",
       "0  20200200  \n",
       "1  20142500  \n",
       "2  20009800  \n",
       "3  16367600  \n",
       "4  12822300  "
      ]
     },
     "execution_count": 3,
     "metadata": {},
     "output_type": "execute_result"
    }
   ],
   "source": [
    "data.head()"
   ]
  },
  {
   "cell_type": "code",
   "execution_count": 4,
   "id": "63b0ba54",
   "metadata": {},
   "outputs": [
    {
     "name": "stdout",
     "output_type": "stream",
     "text": [
      "<class 'pandas.core.frame.DataFrame'>\n",
      "RangeIndex: 755 entries, 0 to 754\n",
      "Data columns (total 7 columns):\n",
      " #   Column     Non-Null Count  Dtype  \n",
      "---  ------     --------------  -----  \n",
      " 0   Date       755 non-null    object \n",
      " 1   Open       755 non-null    float64\n",
      " 2   High       755 non-null    float64\n",
      " 3   Low        755 non-null    float64\n",
      " 4   Close      755 non-null    float64\n",
      " 5   Adj Close  755 non-null    float64\n",
      " 6   Volume     755 non-null    int64  \n",
      "dtypes: float64(5), int64(1), object(1)\n",
      "memory usage: 41.4+ KB\n"
     ]
    }
   ],
   "source": [
    "data.info()"
   ]
  },
  {
   "cell_type": "code",
   "execution_count": 5,
   "id": "5dd57326",
   "metadata": {},
   "outputs": [],
   "source": [
    "length_data = len(data)\n",
    "split_ratio = 0.7\n",
    "\n",
    "length_train = round(length_data * split_ratio)\n",
    "length_validation = length_data - length_train"
   ]
  },
  {
   "cell_type": "code",
   "execution_count": 6,
   "id": "fc80b7c8",
   "metadata": {},
   "outputs": [
    {
     "name": "stdout",
     "output_type": "stream",
     "text": [
      "755\n",
      "528\n",
      "227\n"
     ]
    }
   ],
   "source": [
    "print(length_data)\n",
    "print(length_train)\n",
    "print(length_validation)"
   ]
  },
  {
   "cell_type": "code",
   "execution_count": 7,
   "id": "6f9144aa",
   "metadata": {},
   "outputs": [
    {
     "data": {
      "text/html": [
       "<div>\n",
       "<style scoped>\n",
       "    .dataframe tbody tr th:only-of-type {\n",
       "        vertical-align: middle;\n",
       "    }\n",
       "\n",
       "    .dataframe tbody tr th {\n",
       "        vertical-align: top;\n",
       "    }\n",
       "\n",
       "    .dataframe thead th {\n",
       "        text-align: right;\n",
       "    }\n",
       "</style>\n",
       "<table border=\"1\" class=\"dataframe\">\n",
       "  <thead>\n",
       "    <tr style=\"text-align: right;\">\n",
       "      <th></th>\n",
       "      <th>Date</th>\n",
       "      <th>Open</th>\n",
       "    </tr>\n",
       "  </thead>\n",
       "  <tbody>\n",
       "    <tr>\n",
       "      <th>0</th>\n",
       "      <td>2020-09-29</td>\n",
       "      <td>257.809998</td>\n",
       "    </tr>\n",
       "    <tr>\n",
       "      <th>1</th>\n",
       "      <td>2020-09-30</td>\n",
       "      <td>261.980011</td>\n",
       "    </tr>\n",
       "    <tr>\n",
       "      <th>2</th>\n",
       "      <td>2020-10-01</td>\n",
       "      <td>265.350006</td>\n",
       "    </tr>\n",
       "    <tr>\n",
       "      <th>3</th>\n",
       "      <td>2020-10-02</td>\n",
       "      <td>261.209991</td>\n",
       "    </tr>\n",
       "    <tr>\n",
       "      <th>4</th>\n",
       "      <td>2020-10-05</td>\n",
       "      <td>262.200012</td>\n",
       "    </tr>\n",
       "    <tr>\n",
       "      <th>...</th>\n",
       "      <td>...</td>\n",
       "      <td>...</td>\n",
       "    </tr>\n",
       "    <tr>\n",
       "      <th>523</th>\n",
       "      <td>2022-10-26</td>\n",
       "      <td>131.679993</td>\n",
       "    </tr>\n",
       "    <tr>\n",
       "      <th>524</th>\n",
       "      <td>2022-10-27</td>\n",
       "      <td>97.980003</td>\n",
       "    </tr>\n",
       "    <tr>\n",
       "      <th>525</th>\n",
       "      <td>2022-10-28</td>\n",
       "      <td>99.580002</td>\n",
       "    </tr>\n",
       "    <tr>\n",
       "      <th>526</th>\n",
       "      <td>2022-10-31</td>\n",
       "      <td>98.220001</td>\n",
       "    </tr>\n",
       "    <tr>\n",
       "      <th>527</th>\n",
       "      <td>2022-11-01</td>\n",
       "      <td>94.330002</td>\n",
       "    </tr>\n",
       "  </tbody>\n",
       "</table>\n",
       "<p>528 rows × 2 columns</p>\n",
       "</div>"
      ],
      "text/plain": [
       "          Date        Open\n",
       "0   2020-09-29  257.809998\n",
       "1   2020-09-30  261.980011\n",
       "2   2020-10-01  265.350006\n",
       "3   2020-10-02  261.209991\n",
       "4   2020-10-05  262.200012\n",
       "..         ...         ...\n",
       "523 2022-10-26  131.679993\n",
       "524 2022-10-27   97.980003\n",
       "525 2022-10-28   99.580002\n",
       "526 2022-10-31   98.220001\n",
       "527 2022-11-01   94.330002\n",
       "\n",
       "[528 rows x 2 columns]"
      ]
     },
     "execution_count": 7,
     "metadata": {},
     "output_type": "execute_result"
    }
   ],
   "source": [
    "train_data = data[:length_train].iloc[:, :2]\n",
    "train_data['Date'] = pd.to_datetime(train_data['Date'])\n",
    "train_data"
   ]
  },
  {
   "cell_type": "code",
   "execution_count": 8,
   "id": "9dd98730",
   "metadata": {},
   "outputs": [
    {
     "data": {
      "text/html": [
       "<div>\n",
       "<style scoped>\n",
       "    .dataframe tbody tr th:only-of-type {\n",
       "        vertical-align: middle;\n",
       "    }\n",
       "\n",
       "    .dataframe tbody tr th {\n",
       "        vertical-align: top;\n",
       "    }\n",
       "\n",
       "    .dataframe thead th {\n",
       "        text-align: right;\n",
       "    }\n",
       "</style>\n",
       "<table border=\"1\" class=\"dataframe\">\n",
       "  <thead>\n",
       "    <tr style=\"text-align: right;\">\n",
       "      <th></th>\n",
       "      <th>Date</th>\n",
       "      <th>Open</th>\n",
       "    </tr>\n",
       "  </thead>\n",
       "  <tbody>\n",
       "    <tr>\n",
       "      <th>528</th>\n",
       "      <td>2022-11-02</td>\n",
       "      <td>94.209999</td>\n",
       "    </tr>\n",
       "    <tr>\n",
       "      <th>529</th>\n",
       "      <td>2022-11-03</td>\n",
       "      <td>90.080002</td>\n",
       "    </tr>\n",
       "    <tr>\n",
       "      <th>530</th>\n",
       "      <td>2022-11-04</td>\n",
       "      <td>90.349998</td>\n",
       "    </tr>\n",
       "    <tr>\n",
       "      <th>531</th>\n",
       "      <td>2022-11-07</td>\n",
       "      <td>94.779999</td>\n",
       "    </tr>\n",
       "    <tr>\n",
       "      <th>532</th>\n",
       "      <td>2022-11-08</td>\n",
       "      <td>95.919998</td>\n",
       "    </tr>\n",
       "    <tr>\n",
       "      <th>...</th>\n",
       "      <td>...</td>\n",
       "      <td>...</td>\n",
       "    </tr>\n",
       "    <tr>\n",
       "      <th>750</th>\n",
       "      <td>2023-09-22</td>\n",
       "      <td>299.299988</td>\n",
       "    </tr>\n",
       "    <tr>\n",
       "      <th>751</th>\n",
       "      <td>2023-09-25</td>\n",
       "      <td>295.640015</td>\n",
       "    </tr>\n",
       "    <tr>\n",
       "      <th>752</th>\n",
       "      <td>2023-09-26</td>\n",
       "      <td>297.660004</td>\n",
       "    </tr>\n",
       "    <tr>\n",
       "      <th>753</th>\n",
       "      <td>2023-09-27</td>\n",
       "      <td>300.450012</td>\n",
       "    </tr>\n",
       "    <tr>\n",
       "      <th>754</th>\n",
       "      <td>2023-09-28</td>\n",
       "      <td>298.940002</td>\n",
       "    </tr>\n",
       "  </tbody>\n",
       "</table>\n",
       "<p>227 rows × 2 columns</p>\n",
       "</div>"
      ],
      "text/plain": [
       "          Date        Open\n",
       "528 2022-11-02   94.209999\n",
       "529 2022-11-03   90.080002\n",
       "530 2022-11-04   90.349998\n",
       "531 2022-11-07   94.779999\n",
       "532 2022-11-08   95.919998\n",
       "..         ...         ...\n",
       "750 2023-09-22  299.299988\n",
       "751 2023-09-25  295.640015\n",
       "752 2023-09-26  297.660004\n",
       "753 2023-09-27  300.450012\n",
       "754 2023-09-28  298.940002\n",
       "\n",
       "[227 rows x 2 columns]"
      ]
     },
     "execution_count": 8,
     "metadata": {},
     "output_type": "execute_result"
    }
   ],
   "source": [
    "validation_data = data[length_train:].iloc[:, :2]\n",
    "validation_data['Date'] = pd.to_datetime(validation_data['Date'])\n",
    "validation_data"
   ]
  },
  {
   "cell_type": "code",
   "execution_count": 9,
   "id": "fb6df52f",
   "metadata": {},
   "outputs": [
    {
     "data": {
      "text/plain": [
       "(528,)"
      ]
     },
     "execution_count": 9,
     "metadata": {},
     "output_type": "execute_result"
    }
   ],
   "source": [
    "dataset_train = train_data.Open.values\n",
    "dataset_train.shape"
   ]
  },
  {
   "cell_type": "code",
   "execution_count": 10,
   "id": "5c36efcc",
   "metadata": {},
   "outputs": [
    {
     "data": {
      "text/plain": [
       "(528, 1)"
      ]
     },
     "execution_count": 10,
     "metadata": {},
     "output_type": "execute_result"
    }
   ],
   "source": [
    "dataset_train = np.reshape(dataset_train, (-1, 1))\n",
    "dataset_train.shape"
   ]
  },
  {
   "cell_type": "code",
   "execution_count": 11,
   "id": "b8641385",
   "metadata": {},
   "outputs": [
    {
     "data": {
      "text/plain": [
       "(528, 1)"
      ]
     },
     "execution_count": 11,
     "metadata": {},
     "output_type": "execute_result"
    }
   ],
   "source": [
    "from sklearn.preprocessing import MinMaxScaler\n",
    "scaler = MinMaxScaler(feature_range=(0, 1))\n",
    "\n",
    "dataset_train_scaled = scaler.fit_transform(dataset_train)\n",
    "dataset_train_scaled.shape"
   ]
  },
  {
   "cell_type": "code",
   "execution_count": 12,
   "id": "8055e841",
   "metadata": {},
   "outputs": [],
   "source": [
    "#dataset_train_scaled"
   ]
  },
  {
   "cell_type": "code",
   "execution_count": 13,
   "id": "01b11874",
   "metadata": {},
   "outputs": [
    {
     "data": {
      "image/png": "[encoded data removed]",
      "text/plain": [
       "<Figure size 1080x432 with 1 Axes>"
      ]
     },
     "metadata": {
      "needs_background": "light"
     },
     "output_type": "display_data"
    }
   ],
   "source": [
    "plt.subplots(figsize=(15, 6))\n",
    "plt.plot(dataset_train_scaled)\n",
    "plt.xlabel('Days')\n",
    "plt.ylabel('OpenPrice')\n",
    "plt.show()"
   ]
  },
  {
   "cell_type": "code",
   "execution_count": 14,
   "id": "247195b0",
   "metadata": {},
   "outputs": [],
   "source": [
    "X_train = []\n",
    "y_train = []\n",
    "\n",
    "time_step = 50\n",
    "\n",
    "for i in range(time_step, length_train):\n",
    "    # time_step=50, length_train=528, [51-50, 51]\n",
    "    X_train.append(dataset_train_scaled[i-time_step:i, 0])\n",
    "    y_train.append(dataset_train_scaled[i, 0])\n",
    "\n",
    "                   \n",
    "X_train, y_train = np.array(X_train), np.array(y_train)\n",
    "    \n",
    "#X_train"
   ]
  },
  {
   "cell_type": "code",
   "execution_count": 15,
   "id": "bb4d18ca",
   "metadata": {},
   "outputs": [
    {
     "data": {
      "text/plain": [
       "(478, 50)"
      ]
     },
     "execution_count": 15,
     "metadata": {},
     "output_type": "execute_result"
    }
   ],
   "source": [
    "X_train.shape"
   ]
  },
  {
   "cell_type": "code",
   "execution_count": 16,
   "id": "bdeb3c01",
   "metadata": {},
   "outputs": [
    {
     "data": {
      "text/plain": [
       "(478,)"
      ]
     },
     "execution_count": 16,
     "metadata": {},
     "output_type": "execute_result"
    }
   ],
   "source": [
    "y_train.shape"
   ]
  },
  {
   "cell_type": "code",
   "execution_count": 17,
   "id": "d2c49764",
   "metadata": {},
   "outputs": [
    {
     "name": "stdout",
     "output_type": "stream",
     "text": [
      "(478, 50, 1)\n",
      "(478, 1)\n"
     ]
    }
   ],
   "source": [
    "X_train = np.reshape(X_train, (X_train.shape[0], X_train.shape[1], 1))\n",
    "y_train = np.reshape(y_train, (y_train.shape[0], 1))\n",
    "\n",
    "print(X_train.shape)\n",
    "print(y_train.shape)"
   ]
  },
  {
   "cell_type": "code",
   "execution_count": 18,
   "id": "2d8a0f57",
   "metadata": {},
   "outputs": [
    {
     "name": "stderr",
     "output_type": "stream",
     "text": [
      "2023-09-29 17:09:49.126950: I tensorflow/core/platform/cpu_feature_guard.cc:193] This TensorFlow binary is optimized with oneAPI Deep Neural Network Library (oneDNN) to use the following CPU instructions in performance-critical operations:  AVX2 FMA\n",
      "To enable them in other operations, rebuild TensorFlow with the appropriate compiler flags.\n",
      "2023-09-29 17:09:49.305981: W tensorflow/stream_executor/platform/default/dso_loader.cc:64] Could not load dynamic library 'libcudart.so.11.0'; dlerror: libcudart.so.11.0: cannot open shared object file: No such file or directory; LD_LIBRARY_PATH: /opt/ros/rolling/opt/rviz_ogre_vendor/lib:/opt/ros/rolling/lib/x86_64-linux-gnu:/opt/ros/rolling/lib\n",
      "2023-09-29 17:09:49.306002: I tensorflow/stream_executor/cuda/cudart_stub.cc:29] Ignore above cudart dlerror if you do not have a GPU set up on your machine.\n",
      "2023-09-29 17:09:49.337747: E tensorflow/stream_executor/cuda/cuda_blas.cc:2981] Unable to register cuBLAS factory: Attempting to register factory for plugin cuBLAS when one has already been registered\n",
      "2023-09-29 17:09:50.023920: W tensorflow/stream_executor/platform/default/dso_loader.cc:64] Could not load dynamic library 'libnvinfer.so.7'; dlerror: libnvinfer.so.7: cannot open shared object file: No such file or directory; LD_LIBRARY_PATH: /opt/ros/rolling/opt/rviz_ogre_vendor/lib:/opt/ros/rolling/lib/x86_64-linux-gnu:/opt/ros/rolling/lib\n",
      "2023-09-29 17:09:50.024060: W tensorflow/stream_executor/platform/default/dso_loader.cc:64] Could not load dynamic library 'libnvinfer_plugin.so.7'; dlerror: libnvinfer_plugin.so.7: cannot open shared object file: No such file or directory; LD_LIBRARY_PATH: /opt/ros/rolling/opt/rviz_ogre_vendor/lib:/opt/ros/rolling/lib/x86_64-linux-gnu:/opt/ros/rolling/lib\n",
      "2023-09-29 17:09:50.024073: W tensorflow/compiler/tf2tensorrt/utils/py_utils.cc:38] TF-TRT Warning: Cannot dlopen some TensorRT libraries. If you would like to use Nvidia GPU with TensorRT, please make sure the missing libraries mentioned above are installed properly.\n"
     ]
    }
   ],
   "source": [
    "from keras.models import Sequential\n",
    "from keras.layers import Dense\n",
    "from keras.layers import SimpleRNN\n",
    "from keras.layers import Dropout\n"
   ]
  },
  {
   "cell_type": "code",
   "execution_count": 19,
   "id": "ba8a34f5",
   "metadata": {},
   "outputs": [
    {
     "name": "stderr",
     "output_type": "stream",
     "text": [
      "2023-09-29 17:09:50.706697: W tensorflow/stream_executor/platform/default/dso_loader.cc:64] Could not load dynamic library 'libcuda.so.1'; dlerror: libcuda.so.1: cannot open shared object file: No such file or directory; LD_LIBRARY_PATH: /opt/ros/rolling/opt/rviz_ogre_vendor/lib:/opt/ros/rolling/lib/x86_64-linux-gnu:/opt/ros/rolling/lib\n",
      "2023-09-29 17:09:50.706733: W tensorflow/stream_executor/cuda/cuda_driver.cc:263] failed call to cuInit: UNKNOWN ERROR (303)\n",
      "2023-09-29 17:09:50.706757: I tensorflow/stream_executor/cuda/cuda_diagnostics.cc:156] kernel driver does not appear to be running on this host (mhmud): /proc/driver/nvidia/version does not exist\n",
      "2023-09-29 17:09:50.707115: I tensorflow/core/platform/cpu_feature_guard.cc:193] This TensorFlow binary is optimized with oneAPI Deep Neural Network Library (oneDNN) to use the following CPU instructions in performance-critical operations:  AVX2 FMA\n",
      "To enable them in other operations, rebuild TensorFlow with the appropriate compiler flags.\n"
     ]
    },
    {
     "name": "stdout",
     "output_type": "stream",
     "text": [
      "Epoch 1/50\n",
      "15/15 [==============================] - 3s 38ms/step - loss: 0.5931 - accuracy: 0.0021\n",
      "Epoch 2/50\n",
      "15/15 [==============================] - 1s 39ms/step - loss: 0.3466 - accuracy: 0.0042\n",
      "Epoch 3/50\n",
      "15/15 [==============================] - 1s 46ms/step - loss: 0.3060 - accuracy: 0.0021\n",
      "Epoch 4/50\n",
      "15/15 [==============================] - 1s 50ms/step - loss: 0.2506 - accuracy: 0.0042\n",
      "Epoch 5/50\n",
      "15/15 [==============================] - 1s 42ms/step - loss: 0.2519 - accuracy: 0.0042\n",
      "Epoch 6/50\n",
      "15/15 [==============================] - 1s 44ms/step - loss: 0.2219 - accuracy: 0.0042\n",
      "Epoch 7/50\n",
      "15/15 [==============================] - 1s 41ms/step - loss: 0.2068 - accuracy: 0.0042\n",
      "Epoch 8/50\n",
      "15/15 [==============================] - 1s 42ms/step - loss: 0.1927 - accuracy: 0.0042\n",
      "Epoch 9/50\n",
      "15/15 [==============================] - 1s 40ms/step - loss: 0.1826 - accuracy: 0.0042\n",
      "Epoch 10/50\n",
      "15/15 [==============================] - 1s 40ms/step - loss: 0.1697 - accuracy: 0.0042\n",
      "Epoch 11/50\n",
      "15/15 [==============================] - 1s 39ms/step - loss: 0.1528 - accuracy: 0.0042\n",
      "Epoch 12/50\n",
      "15/15 [==============================] - 1s 39ms/step - loss: 0.1667 - accuracy: 0.0042\n",
      "Epoch 13/50\n",
      "15/15 [==============================] - 1s 40ms/step - loss: 0.1529 - accuracy: 0.0042\n",
      "Epoch 14/50\n",
      "15/15 [==============================] - 1s 41ms/step - loss: 0.1164 - accuracy: 0.0042\n",
      "Epoch 15/50\n",
      "15/15 [==============================] - 1s 38ms/step - loss: 0.1118 - accuracy: 0.0021\n",
      "Epoch 16/50\n",
      "15/15 [==============================] - 1s 39ms/step - loss: 0.1099 - accuracy: 0.0021\n",
      "Epoch 17/50\n",
      "15/15 [==============================] - 1s 40ms/step - loss: 0.1038 - accuracy: 0.0042\n",
      "Epoch 18/50\n",
      "15/15 [==============================] - 1s 38ms/step - loss: 0.1093 - accuracy: 0.0042\n",
      "Epoch 19/50\n",
      "15/15 [==============================] - 1s 40ms/step - loss: 0.0867 - accuracy: 0.0000e+00\n",
      "Epoch 20/50\n",
      "15/15 [==============================] - 1s 38ms/step - loss: 0.0779 - accuracy: 0.0042\n",
      "Epoch 21/50\n",
      "15/15 [==============================] - 1s 38ms/step - loss: 0.0736 - accuracy: 0.0042\n",
      "Epoch 22/50\n",
      "15/15 [==============================] - 1s 37ms/step - loss: 0.0761 - accuracy: 0.0042\n",
      "Epoch 23/50\n",
      "15/15 [==============================] - 1s 40ms/step - loss: 0.0550 - accuracy: 0.0042\n",
      "Epoch 24/50\n",
      "15/15 [==============================] - 1s 39ms/step - loss: 0.0652 - accuracy: 0.0042\n",
      "Epoch 25/50\n",
      "15/15 [==============================] - 1s 38ms/step - loss: 0.0609 - accuracy: 0.0021\n",
      "Epoch 26/50\n",
      "15/15 [==============================] - 1s 39ms/step - loss: 0.0603 - accuracy: 0.0042\n",
      "Epoch 27/50\n",
      "15/15 [==============================] - 1s 37ms/step - loss: 0.0560 - accuracy: 0.0042\n",
      "Epoch 28/50\n",
      "15/15 [==============================] - 1s 39ms/step - loss: 0.0521 - accuracy: 0.0042\n",
      "Epoch 29/50\n",
      "15/15 [==============================] - 1s 41ms/step - loss: 0.0428 - accuracy: 0.0042\n",
      "Epoch 30/50\n",
      "15/15 [==============================] - 1s 39ms/step - loss: 0.0509 - accuracy: 0.0042\n",
      "Epoch 31/50\n",
      "15/15 [==============================] - 1s 38ms/step - loss: 0.0453 - accuracy: 0.0042\n",
      "Epoch 32/50\n",
      "15/15 [==============================] - 1s 40ms/step - loss: 0.0445 - accuracy: 0.0042\n",
      "Epoch 33/50\n",
      "15/15 [==============================] - 1s 39ms/step - loss: 0.0431 - accuracy: 0.0021\n",
      "Epoch 34/50\n",
      "15/15 [==============================] - 1s 39ms/step - loss: 0.0395 - accuracy: 0.0042\n",
      "Epoch 35/50\n",
      "15/15 [==============================] - 1s 39ms/step - loss: 0.0376 - accuracy: 0.0042\n",
      "Epoch 36/50\n",
      "15/15 [==============================] - 1s 40ms/step - loss: 0.0344 - accuracy: 0.0042\n",
      "Epoch 37/50\n",
      "15/15 [==============================] - 1s 39ms/step - loss: 0.0331 - accuracy: 0.0042\n",
      "Epoch 38/50\n",
      "15/15 [==============================] - 1s 40ms/step - loss: 0.0316 - accuracy: 0.0042\n",
      "Epoch 39/50\n",
      "15/15 [==============================] - 1s 41ms/step - loss: 0.0317 - accuracy: 0.0042\n",
      "Epoch 40/50\n",
      "15/15 [==============================] - 1s 40ms/step - loss: 0.0302 - accuracy: 0.0042\n",
      "Epoch 41/50\n",
      "15/15 [==============================] - 1s 42ms/step - loss: 0.0269 - accuracy: 0.0042\n",
      "Epoch 42/50\n",
      "15/15 [==============================] - 1s 38ms/step - loss: 0.0273 - accuracy: 0.0042\n",
      "Epoch 43/50\n",
      "15/15 [==============================] - 1s 39ms/step - loss: 0.0266 - accuracy: 0.0042\n",
      "Epoch 44/50\n",
      "15/15 [==============================] - 1s 40ms/step - loss: 0.0264 - accuracy: 0.0042\n",
      "Epoch 45/50\n",
      "15/15 [==============================] - 1s 44ms/step - loss: 0.0228 - accuracy: 0.0042\n",
      "Epoch 46/50\n",
      "15/15 [==============================] - 1s 39ms/step - loss: 0.0264 - accuracy: 0.0042\n",
      "Epoch 47/50\n",
      "15/15 [==============================] - 1s 40ms/step - loss: 0.0216 - accuracy: 0.0042\n",
      "Epoch 48/50\n",
      "15/15 [==============================] - 1s 40ms/step - loss: 0.0212 - accuracy: 0.0042\n",
      "Epoch 49/50\n",
      "15/15 [==============================] - 1s 39ms/step - loss: 0.0204 - accuracy: 0.0042\n",
      "Epoch 50/50\n",
      "15/15 [==============================] - 1s 39ms/step - loss: 0.0196 - accuracy: 0.0042\n"
     ]
    }
   ],
   "source": [
    "reg =Sequential()\n",
    "reg.add(SimpleRNN(units=50, activation='tanh', return_sequences=True,input_shape=(X_train.shape[1], 1)))\n",
    "reg.add(Dropout(0.2))\n",
    "reg.add(SimpleRNN(units=50, activation='tanh', return_sequences=True))\n",
    "reg.add(Dropout(0.2))\n",
    "reg.add(SimpleRNN(units=50, activation='tanh', return_sequences=True))\n",
    "reg.add(Dropout(0.2))\n",
    "reg.add(SimpleRNN(units=50))\n",
    "reg.add(Dropout(0.2))\n",
    "\n",
    "\n",
    "reg.add(Dense(units=1))\n",
    "\n",
    "\n",
    "reg.compile(optimizer='adam', loss='mean_squared_error', metrics=['accuracy'])\n",
    "history = reg.fit(X_train, y_train, epochs=50, batch_size=32)\n"
   ]
  },
  {
   "cell_type": "code",
   "execution_count": 20,
   "id": "ddacc053",
   "metadata": {},
   "outputs": [
    {
     "name": "stdout",
     "output_type": "stream",
     "text": [
      "15/15 [==============================] - 1s 12ms/step\n"
     ]
    },
    {
     "data": {
      "text/plain": [
       "array([[291.0538  ],\n",
       "       [290.88107 ],\n",
       "       [291.33087 ],\n",
       "       [292.50772 ],\n",
       "       [291.56232 ],\n",
       "       [287.8891  ],\n",
       "       [281.91837 ],\n",
       "       [274.9234  ],\n",
       "       [275.55298 ],\n",
       "       [278.8623  ],\n",
       "       [279.43375 ],\n",
       "       [277.94034 ],\n",
       "       [274.9113  ],\n",
       "       [271.94348 ],\n",
       "       [271.94748 ],\n",
       "       [274.35623 ],\n",
       "       [276.4313  ],\n",
       "       [276.8399  ],\n",
       "       [276.96008 ],\n",
       "       [275.07806 ],\n",
       "       [273.76465 ],\n",
       "       [272.83438 ],\n",
       "       [270.20938 ],\n",
       "       [264.35318 ],\n",
       "       [258.2124  ],\n",
       "       [254.33992 ],\n",
       "       [251.74623 ],\n",
       "       [248.84706 ],\n",
       "       [248.39229 ],\n",
       "       [252.49614 ],\n",
       "       [257.03714 ],\n",
       "       [261.88904 ],\n",
       "       [267.38507 ],\n",
       "       [274.98425 ],\n",
       "       [279.4337  ],\n",
       "       [281.29526 ],\n",
       "       [282.5698  ],\n",
       "       [280.1775  ],\n",
       "       [277.4469  ],\n",
       "       [274.42975 ],\n",
       "       [269.19397 ],\n",
       "       [266.3625  ],\n",
       "       [261.77496 ],\n",
       "       [258.45984 ],\n",
       "       [259.0395  ],\n",
       "       [263.30765 ],\n",
       "       [268.98633 ],\n",
       "       [273.68307 ],\n",
       "       [276.27795 ],\n",
       "       [277.22934 ],\n",
       "       [274.9898  ],\n",
       "       [272.7545  ],\n",
       "       [270.63815 ],\n",
       "       [268.6109  ],\n",
       "       [265.89572 ],\n",
       "       [259.3958  ],\n",
       "       [255.54124 ],\n",
       "       [256.9189  ],\n",
       "       [256.01526 ],\n",
       "       [254.5939  ],\n",
       "       [254.72226 ],\n",
       "       [258.00015 ],\n",
       "       [259.91577 ],\n",
       "       [263.00305 ],\n",
       "       [267.7741  ],\n",
       "       [270.05917 ],\n",
       "       [269.54672 ],\n",
       "       [271.03687 ],\n",
       "       [274.90424 ],\n",
       "       [280.02246 ],\n",
       "       [285.18506 ],\n",
       "       [289.02234 ],\n",
       "       [294.4382  ],\n",
       "       [294.78516 ],\n",
       "       [294.39136 ],\n",
       "       [293.2685  ],\n",
       "       [293.7068  ],\n",
       "       [294.06186 ],\n",
       "       [296.3331  ],\n",
       "       [297.8892  ],\n",
       "       [303.5923  ],\n",
       "       [307.04138 ],\n",
       "       [311.43408 ],\n",
       "       [317.24692 ],\n",
       "       [324.85165 ],\n",
       "       [329.5175  ],\n",
       "       [332.69925 ],\n",
       "       [333.63348 ],\n",
       "       [335.52658 ],\n",
       "       [333.0553  ],\n",
       "       [332.46204 ],\n",
       "       [329.19772 ],\n",
       "       [325.42636 ],\n",
       "       [322.14975 ],\n",
       "       [318.56177 ],\n",
       "       [316.6406  ],\n",
       "       [319.29248 ],\n",
       "       [320.67438 ],\n",
       "       [324.40466 ],\n",
       "       [328.1061  ],\n",
       "       [334.08975 ],\n",
       "       [338.30554 ],\n",
       "       [343.6221  ],\n",
       "       [347.34833 ],\n",
       "       [349.35635 ],\n",
       "       [351.29324 ],\n",
       "       [346.78726 ],\n",
       "       [341.08774 ],\n",
       "       [335.2082  ],\n",
       "       [331.27124 ],\n",
       "       [325.38974 ],\n",
       "       [326.80612 ],\n",
       "       [325.26596 ],\n",
       "       [323.91495 ],\n",
       "       [325.1705  ],\n",
       "       [331.12683 ],\n",
       "       [335.13495 ],\n",
       "       [344.11258 ],\n",
       "       [349.38556 ],\n",
       "       [351.35568 ],\n",
       "       [355.9337  ],\n",
       "       [358.95187 ],\n",
       "       [359.6673  ],\n",
       "       [361.13998 ],\n",
       "       [358.15015 ],\n",
       "       [353.7247  ],\n",
       "       [353.33704 ],\n",
       "       [352.50848 ],\n",
       "       [352.7765  ],\n",
       "       [354.87347 ],\n",
       "       [356.1554  ],\n",
       "       [355.9311  ],\n",
       "       [359.5457  ],\n",
       "       [361.7367  ],\n",
       "       [360.7927  ],\n",
       "       [363.21524 ],\n",
       "       [364.14713 ],\n",
       "       [364.70212 ],\n",
       "       [369.03397 ],\n",
       "       [369.06503 ],\n",
       "       [369.47424 ],\n",
       "       [372.63297 ],\n",
       "       [372.60654 ],\n",
       "       [372.78976 ],\n",
       "       [377.53226 ],\n",
       "       [377.07315 ],\n",
       "       [375.1608  ],\n",
       "       [377.24652 ],\n",
       "       [377.36548 ],\n",
       "       [376.4536  ],\n",
       "       [377.7531  ],\n",
       "       [376.96432 ],\n",
       "       [375.1912  ],\n",
       "       [373.4353  ],\n",
       "       [371.14096 ],\n",
       "       [371.09335 ],\n",
       "       [373.14227 ],\n",
       "       [376.32996 ],\n",
       "       [378.38126 ],\n",
       "       [381.97028 ],\n",
       "       [383.81418 ],\n",
       "       [385.64243 ],\n",
       "       [386.74277 ],\n",
       "       [386.7173  ],\n",
       "       [387.2123  ],\n",
       "       [386.57047 ],\n",
       "       [384.00357 ],\n",
       "       [384.3654  ],\n",
       "       [382.83282 ],\n",
       "       [380.20627 ],\n",
       "       [380.56238 ],\n",
       "       [381.71506 ],\n",
       "       [382.4316  ],\n",
       "       [385.13937 ],\n",
       "       [386.46985 ],\n",
       "       [385.8748  ],\n",
       "       [386.1823  ],\n",
       "       [386.0564  ],\n",
       "       [385.40668 ],\n",
       "       [386.68848 ],\n",
       "       [387.225   ],\n",
       "       [386.85678 ],\n",
       "       [387.3763  ],\n",
       "       [387.91144 ],\n",
       "       [389.31055 ],\n",
       "       [393.10065 ],\n",
       "       [394.13007 ],\n",
       "       [395.2035  ],\n",
       "       [396.4658  ],\n",
       "       [395.2503  ],\n",
       "       [396.4277  ],\n",
       "       [398.16034 ],\n",
       "       [397.6131  ],\n",
       "       [397.3857  ],\n",
       "       [396.05078 ],\n",
       "       [394.3528  ],\n",
       "       [393.8146  ],\n",
       "       [392.66013 ],\n",
       "       [390.2319  ],\n",
       "       [386.25418 ],\n",
       "       [383.31888 ],\n",
       "       [379.60202 ],\n",
       "       [377.88025 ],\n",
       "       [377.26758 ],\n",
       "       [373.59543 ],\n",
       "       [372.42218 ],\n",
       "       [371.04077 ],\n",
       "       [368.94736 ],\n",
       "       [367.82553 ],\n",
       "       [367.90445 ],\n",
       "       [365.76865 ],\n",
       "       [364.3407  ],\n",
       "       [359.77435 ],\n",
       "       [358.0319  ],\n",
       "       [356.74142 ],\n",
       "       [354.8644  ],\n",
       "       [353.2697  ],\n",
       "       [354.4322  ],\n",
       "       [355.12128 ],\n",
       "       [356.8623  ],\n",
       "       [357.5344  ],\n",
       "       [358.59915 ],\n",
       "       [359.28433 ],\n",
       "       [359.02496 ],\n",
       "       [356.0071  ],\n",
       "       [353.11554 ],\n",
       "       [351.73813 ],\n",
       "       [350.48135 ],\n",
       "       [345.3422  ],\n",
       "       [344.28677 ],\n",
       "       [347.89618 ],\n",
       "       [350.79773 ],\n",
       "       [354.4864  ],\n",
       "       [358.26306 ],\n",
       "       [361.87665 ],\n",
       "       [363.39737 ],\n",
       "       [362.90378 ],\n",
       "       [364.6326  ],\n",
       "       [366.50076 ],\n",
       "       [366.65848 ],\n",
       "       [365.57678 ],\n",
       "       [363.4612  ],\n",
       "       [364.84903 ],\n",
       "       [365.09668 ],\n",
       "       [365.11407 ],\n",
       "       [365.39548 ],\n",
       "       [365.0251  ],\n",
       "       [362.15796 ],\n",
       "       [359.776   ],\n",
       "       [356.21112 ],\n",
       "       [353.2871  ],\n",
       "       [349.91714 ],\n",
       "       [346.40775 ],\n",
       "       [343.86508 ],\n",
       "       [344.46027 ],\n",
       "       [345.23294 ],\n",
       "       [345.53647 ],\n",
       "       [347.55765 ],\n",
       "       [351.00302 ],\n",
       "       [357.00168 ],\n",
       "       [359.1805  ],\n",
       "       [360.76218 ],\n",
       "       [359.75912 ],\n",
       "       [359.23462 ],\n",
       "       [357.28302 ],\n",
       "       [358.76743 ],\n",
       "       [361.6619  ],\n",
       "       [363.8906  ],\n",
       "       [361.33942 ],\n",
       "       [363.0944  ],\n",
       "       [366.09265 ],\n",
       "       [366.51926 ],\n",
       "       [367.6369  ],\n",
       "       [365.7706  ],\n",
       "       [363.91483 ],\n",
       "       [361.74615 ],\n",
       "       [359.47202 ],\n",
       "       [357.35895 ],\n",
       "       [359.57172 ],\n",
       "       [355.88086 ],\n",
       "       [351.78967 ],\n",
       "       [350.47644 ],\n",
       "       [348.7619  ],\n",
       "       [345.27545 ],\n",
       "       [340.6849  ],\n",
       "       [337.972   ],\n",
       "       [331.17328 ],\n",
       "       [324.6204  ],\n",
       "       [318.01074 ],\n",
       "       [316.5141  ],\n",
       "       [318.71545 ],\n",
       "       [314.2746  ],\n",
       "       [298.33942 ],\n",
       "       [284.50934 ],\n",
       "       [272.63925 ],\n",
       "       [255.81111 ],\n",
       "       [234.53658 ],\n",
       "       [218.20972 ],\n",
       "       [218.65508 ],\n",
       "       [210.6577  ],\n",
       "       [205.24358 ],\n",
       "       [202.28586 ],\n",
       "       [202.65594 ],\n",
       "       [204.09793 ],\n",
       "       [205.4846  ],\n",
       "       [210.45076 ],\n",
       "       [212.64606 ],\n",
       "       [213.95923 ],\n",
       "       [208.10284 ],\n",
       "       [203.62234 ],\n",
       "       [194.5534  ],\n",
       "       [189.15382 ],\n",
       "       [194.34384 ],\n",
       "       [192.2205  ],\n",
       "       [194.48882 ],\n",
       "       [192.74092 ],\n",
       "       [193.66989 ],\n",
       "       [192.60036 ],\n",
       "       [185.32892 ],\n",
       "       [188.5553  ],\n",
       "       [195.2242  ],\n",
       "       [201.26445 ],\n",
       "       [198.26775 ],\n",
       "       [199.14932 ],\n",
       "       [200.2483  ],\n",
       "       [207.60828 ],\n",
       "       [217.69437 ],\n",
       "       [225.43834 ],\n",
       "       [225.81589 ],\n",
       "       [222.97594 ],\n",
       "       [223.01646 ],\n",
       "       [218.61809 ],\n",
       "       [217.55573 ],\n",
       "       [216.41599 ],\n",
       "       [217.05324 ],\n",
       "       [217.76878 ],\n",
       "       [216.6214  ],\n",
       "       [217.05893 ],\n",
       "       [215.54713 ],\n",
       "       [220.02005 ],\n",
       "       [219.48975 ],\n",
       "       [219.0148  ],\n",
       "       [214.38315 ],\n",
       "       [213.53323 ],\n",
       "       [210.10335 ],\n",
       "       [205.13795 ],\n",
       "       [202.97487 ],\n",
       "       [192.94083 ],\n",
       "       [188.59343 ],\n",
       "       [182.45758 ],\n",
       "       [184.41327 ],\n",
       "       [190.02429 ],\n",
       "       [197.27849 ],\n",
       "       [202.74222 ],\n",
       "       [209.23268 ],\n",
       "       [213.59947 ],\n",
       "       [211.6093  ],\n",
       "       [211.59453 ],\n",
       "       [212.68094 ],\n",
       "       [211.61185 ],\n",
       "       [208.88544 ],\n",
       "       [200.14467 ],\n",
       "       [199.32857 ],\n",
       "       [194.47913 ],\n",
       "       [192.8418  ],\n",
       "       [194.35593 ],\n",
       "       [198.27773 ],\n",
       "       [198.70241 ],\n",
       "       [200.24686 ],\n",
       "       [200.37042 ],\n",
       "       [198.96948 ],\n",
       "       [200.28528 ],\n",
       "       [198.59503 ],\n",
       "       [199.79327 ],\n",
       "       [196.24385 ],\n",
       "       [191.06172 ],\n",
       "       [189.13855 ],\n",
       "       [185.21095 ],\n",
       "       [186.45605 ],\n",
       "       [188.48811 ],\n",
       "       [192.34216 ],\n",
       "       [186.75197 ],\n",
       "       [176.169   ],\n",
       "       [167.2086  ],\n",
       "       [158.26189 ],\n",
       "       [155.32889 ],\n",
       "       [151.4541  ],\n",
       "       [154.76303 ],\n",
       "       [156.20938 ],\n",
       "       [162.6601  ],\n",
       "       [162.70305 ],\n",
       "       [170.53183 ],\n",
       "       [171.66835 ],\n",
       "       [178.025   ],\n",
       "       [179.42624 ],\n",
       "       [169.7728  ],\n",
       "       [168.26524 ],\n",
       "       [167.27101 ],\n",
       "       [160.80037 ],\n",
       "       [156.28535 ],\n",
       "       [161.64888 ],\n",
       "       [163.82489 ],\n",
       "       [163.25926 ],\n",
       "       [163.79274 ],\n",
       "       [164.66489 ],\n",
       "       [173.27425 ],\n",
       "       [178.98322 ],\n",
       "       [181.3085  ],\n",
       "       [187.24092 ],\n",
       "       [186.9736  ],\n",
       "       [178.17514 ],\n",
       "       [169.28725 ],\n",
       "       [165.03198 ],\n",
       "       [159.17738 ],\n",
       "       [161.1064  ],\n",
       "       [162.6568  ],\n",
       "       [165.54425 ],\n",
       "       [162.88927 ],\n",
       "       [163.85014 ],\n",
       "       [164.10419 ],\n",
       "       [166.58641 ],\n",
       "       [175.08084 ],\n",
       "       [183.68108 ],\n",
       "       [183.26459 ],\n",
       "       [185.4516  ],\n",
       "       [185.92525 ],\n",
       "       [183.7098  ],\n",
       "       [182.01578 ],\n",
       "       [176.8179  ],\n",
       "       [173.55814 ],\n",
       "       [165.69083 ],\n",
       "       [161.79158 ],\n",
       "       [165.67406 ],\n",
       "       [166.4498  ],\n",
       "       [165.46051 ],\n",
       "       [171.17561 ],\n",
       "       [175.26346 ],\n",
       "       [179.42065 ],\n",
       "       [174.89539 ],\n",
       "       [171.73195 ],\n",
       "       [167.88931 ],\n",
       "       [164.20021 ],\n",
       "       [164.74385 ],\n",
       "       [166.05621 ],\n",
       "       [160.59055 ],\n",
       "       [158.96927 ],\n",
       "       [156.65337 ],\n",
       "       [155.06621 ],\n",
       "       [153.09071 ],\n",
       "       [143.99635 ],\n",
       "       [142.87773 ],\n",
       "       [144.5801  ],\n",
       "       [144.63121 ],\n",
       "       [145.94875 ],\n",
       "       [142.48451 ],\n",
       "       [136.4686  ],\n",
       "       [134.38795 ],\n",
       "       [132.41002 ],\n",
       "       [134.31158 ],\n",
       "       [134.80441 ],\n",
       "       [137.57515 ],\n",
       "       [140.2405  ],\n",
       "       [139.17146 ],\n",
       "       [137.58447 ],\n",
       "       [133.0655  ],\n",
       "       [127.6652  ],\n",
       "       [127.49998 ],\n",
       "       [124.12177 ],\n",
       "       [127.99982 ],\n",
       "       [129.40695 ],\n",
       "       [128.18916 ],\n",
       "       [130.78857 ],\n",
       "       [129.80693 ],\n",
       "       [126.07085 ],\n",
       "       [129.33911 ],\n",
       "       [122.789314],\n",
       "       [114.06939 ],\n",
       "       [104.00318 ]], dtype=float32)"
      ]
     },
     "execution_count": 20,
     "metadata": {},
     "output_type": "execute_result"
    }
   ],
   "source": [
    "y_pred = reg.predict(X_train)\n",
    "y_pred = scaler.inverse_transform(y_pred)\n",
    "y_pred"
   ]
  },
  {
   "cell_type": "code",
   "execution_count": 21,
   "id": "ce17e3d4",
   "metadata": {},
   "outputs": [],
   "source": [
    "y_train = scaler.inverse_transform(y_train)\n"
   ]
  },
  {
   "cell_type": "code",
   "execution_count": 22,
   "id": "6b426a42",
   "metadata": {},
   "outputs": [
    {
     "data": {
      "image/png": "[encoded data removed]",
      "text/plain": [
       "<Figure size 2160x720 with 1 Axes>"
      ]
     },
     "metadata": {
      "needs_background": "light"
     },
     "output_type": "display_data"
    }
   ],
   "source": [
    "plt.figure(figsize=(30, 10))\n",
    "plt.plot(y_pred, color='b', label='y predicted')\n",
    "plt.plot(y_train, color = 'g', label = ' y train')\n",
    "\n",
    "plt.xlabel('Days')\n",
    "plt.ylabel('Open Price')\n",
    "\n",
    "\n",
    "plt.legend()\n",
    "\n",
    "plt.show()"
   ]
  },
  {
   "cell_type": "code",
   "execution_count": 23,
   "id": "4a5ae3c3",
   "metadata": {},
   "outputs": [
    {
     "data": {
      "text/plain": [
       "(227, 1)"
      ]
     },
     "execution_count": 23,
     "metadata": {},
     "output_type": "execute_result"
    }
   ],
   "source": [
    "dataset_validation = validation_data.Open.values\n",
    "dataset_validation = np.reshape(dataset_validation, (-1, 1))\n",
    "scaled_dataset_validation = scaler.fit_transform(dataset_validation)\n",
    "scaled_dataset_validation.shape"
   ]
  },
  {
   "cell_type": "code",
   "execution_count": 25,
   "id": "078fc033",
   "metadata": {},
   "outputs": [],
   "source": [
    "y_test = []\n",
    "X_test = []\n",
    "\n",
    "\n",
    "for i in range(time_step, length_validation):\n",
    "    X_test.append(scaled_dataset_validation[i-time_step:i, 0])\n",
    "    y_test.append(scaled_dataset_validation[i, 0])\n",
    "    "
   ]
  },
  {
   "cell_type": "code",
   "execution_count": 26,
   "id": "d7867e84",
   "metadata": {},
   "outputs": [],
   "source": [
    "X_test, y_test = np.array(X_test), np.array(y_test)\n"
   ]
  },
  {
   "cell_type": "code",
   "execution_count": 27,
   "id": "3a91270d",
   "metadata": {},
   "outputs": [],
   "source": [
    "X_test = np.reshape(X_test, (X_test.shape[0], X_test.shape[1], 1))\n",
    "y_test = np.reshape(y_test, (-1, 1))\n"
   ]
  },
  {
   "cell_type": "code",
   "execution_count": 28,
   "id": "706879bc",
   "metadata": {},
   "outputs": [
    {
     "data": {
      "text/plain": [
       "(177, 50, 1)"
      ]
     },
     "execution_count": 28,
     "metadata": {},
     "output_type": "execute_result"
    }
   ],
   "source": [
    "X_test.shape"
   ]
  },
  {
   "cell_type": "code",
   "execution_count": 29,
   "id": "d703b91c",
   "metadata": {},
   "outputs": [
    {
     "name": "stdout",
     "output_type": "stream",
     "text": [
      "6/6 [==============================] - 0s 11ms/step\n"
     ]
    }
   ],
   "source": [
    "y_pred_of_test = reg.predict(X_test)\n",
    "y_pred_of_test = scaler.inverse_transform(y_pred_of_test)\n"
   ]
  },
  {
   "cell_type": "code",
   "execution_count": 32,
   "id": "1d1e1a48",
   "metadata": {},
   "outputs": [
    {
     "data": {
      "image/png": "[encoded data removed]",
      "text/plain": [
       "<Figure size 2160x720 with 1 Axes>"
      ]
     },
     "metadata": {
      "needs_background": "light"
     },
     "output_type": "display_data"
    }
   ],
   "source": [
    "\n",
    "plt.figure(figsize=(30, 10))\n",
    "plt.plot(y_pred_of_test, color='b', label='y predicted')\n",
    "plt.plot( scaler.inverse_transform(y_test), color = 'g', label = ' y test')\n",
    "\n",
    "plt.xlabel('Days')\n",
    "plt.ylabel('Open Price')\n",
    "\n",
    "\n",
    "plt.legend()\n",
    "\n",
    "plt.show()"
   ]
  },
  {
   "cell_type": "code",
   "execution_count": 33,
   "id": "d40a62e3",
   "metadata": {},
   "outputs": [],
   "source": [
    "from keras.layers import LSTM\n",
    "\n",
    "model_lstm = Sequential()\n",
    "model_lstm.add(LSTM(64, return_sequences=True, input_shape=(X_train.shape[1], 1)))\n",
    "model_lstm.add(LSTM(64, return_sequences=False))\n",
    "model_lstm.add(Dense(32))\n",
    "model_lstm.add(Dense(1))\n",
    "\n",
    "\n",
    "#model_lstm.compile(optimizer='adam', loss='mean_squared_error')\n",
    "#hist= model_lstm.fit(X_train, y_train, epochs=10, batch_size=32)\n"
   ]
  },
  {
   "cell_type": "code",
   "execution_count": 35,
   "id": "f2066e67",
   "metadata": {},
   "outputs": [
    {
     "data": {
      "text/plain": [
       "(1, 50, 1)"
      ]
     },
     "execution_count": 35,
     "metadata": {},
     "output_type": "execute_result"
    }
   ],
   "source": [
    "X_input=data.iloc[-time_step:].Open.values\n",
    "X_input = scaler.fit_transform(X_input.reshape(-1, 1))\n",
    "X_input = np.reshape(X_input, (1, 50, 1))\n",
    "X_input.shape"
   ]
  },
  {
   "cell_type": "code",
   "execution_count": 37,
   "id": "ee21e8af",
   "metadata": {},
   "outputs": [
    {
     "name": "stdout",
     "output_type": "stream",
     "text": [
      "1/1 [==============================] - 0s 27ms/step\n"
     ]
    },
    {
     "data": {
      "text/plain": [
       "305.6176"
      ]
     },
     "execution_count": 37,
     "metadata": {},
     "output_type": "execute_result"
    }
   ],
   "source": [
    "simple_RNN_prediction = scaler.inverse_transform(reg.predict(X_input))\n",
    "simple_RNN_prediction[0, 0]"
   ]
  },
  {
   "cell_type": "code",
   "execution_count": 38,
   "id": "e0472494",
   "metadata": {},
   "outputs": [
    {
     "data": {
      "text/html": [
       "<div>\n",
       "<style scoped>\n",
       "    .dataframe tbody tr th:only-of-type {\n",
       "        vertical-align: middle;\n",
       "    }\n",
       "\n",
       "    .dataframe tbody tr th {\n",
       "        vertical-align: top;\n",
       "    }\n",
       "\n",
       "    .dataframe thead th {\n",
       "        text-align: right;\n",
       "    }\n",
       "</style>\n",
       "<table border=\"1\" class=\"dataframe\">\n",
       "  <thead>\n",
       "    <tr style=\"text-align: right;\">\n",
       "      <th></th>\n",
       "      <th>Date</th>\n",
       "      <th>Open</th>\n",
       "      <th>High</th>\n",
       "      <th>Low</th>\n",
       "      <th>Close</th>\n",
       "      <th>Adj Close</th>\n",
       "      <th>Volume</th>\n",
       "    </tr>\n",
       "  </thead>\n",
       "  <tbody>\n",
       "    <tr>\n",
       "      <th>750</th>\n",
       "      <td>2023-09-22</td>\n",
       "      <td>299.299988</td>\n",
       "      <td>305.380005</td>\n",
       "      <td>298.269989</td>\n",
       "      <td>299.079987</td>\n",
       "      <td>299.079987</td>\n",
       "      <td>25351400</td>\n",
       "    </tr>\n",
       "    <tr>\n",
       "      <th>751</th>\n",
       "      <td>2023-09-25</td>\n",
       "      <td>295.640015</td>\n",
       "      <td>300.950012</td>\n",
       "      <td>293.700012</td>\n",
       "      <td>300.829987</td>\n",
       "      <td>300.829987</td>\n",
       "      <td>18987000</td>\n",
       "    </tr>\n",
       "    <tr>\n",
       "      <th>752</th>\n",
       "      <td>2023-09-26</td>\n",
       "      <td>297.660004</td>\n",
       "      <td>300.299988</td>\n",
       "      <td>296.010010</td>\n",
       "      <td>298.959991</td>\n",
       "      <td>298.959991</td>\n",
       "      <td>19417200</td>\n",
       "    </tr>\n",
       "    <tr>\n",
       "      <th>753</th>\n",
       "      <td>2023-09-27</td>\n",
       "      <td>300.450012</td>\n",
       "      <td>301.299988</td>\n",
       "      <td>286.790009</td>\n",
       "      <td>297.739990</td>\n",
       "      <td>297.739990</td>\n",
       "      <td>36429800</td>\n",
       "    </tr>\n",
       "    <tr>\n",
       "      <th>754</th>\n",
       "      <td>2023-09-28</td>\n",
       "      <td>298.940002</td>\n",
       "      <td>306.329987</td>\n",
       "      <td>296.700012</td>\n",
       "      <td>303.959991</td>\n",
       "      <td>303.959991</td>\n",
       "      <td>22140800</td>\n",
       "    </tr>\n",
       "  </tbody>\n",
       "</table>\n",
       "</div>"
      ],
      "text/plain": [
       "           Date        Open        High         Low       Close   Adj Close  \\\n",
       "750  2023-09-22  299.299988  305.380005  298.269989  299.079987  299.079987   \n",
       "751  2023-09-25  295.640015  300.950012  293.700012  300.829987  300.829987   \n",
       "752  2023-09-26  297.660004  300.299988  296.010010  298.959991  298.959991   \n",
       "753  2023-09-27  300.450012  301.299988  286.790009  297.739990  297.739990   \n",
       "754  2023-09-28  298.940002  306.329987  296.700012  303.959991  303.959991   \n",
       "\n",
       "       Volume  \n",
       "750  25351400  \n",
       "751  18987000  \n",
       "752  19417200  \n",
       "753  36429800  \n",
       "754  22140800  "
      ]
     },
     "execution_count": 38,
     "metadata": {},
     "output_type": "execute_result"
    }
   ],
   "source": [
    "data.tail()"
   ]
  },
  {
   "cell_type": "code",
   "execution_count": null,
   "id": "773f3349",
   "metadata": {},
   "outputs": [],
   "source": []
  }
 ],
 "metadata": {
  "kernelspec": {
   "display_name": "Python 3 (ipykernel)",
   "language": "python",
   "name": "python3"
  },
  "language_info": {
   "codemirror_mode": {
    "name": "ipython",
    "version": 3
   },
   "file_extension": ".py",
   "mimetype": "text/x-python",
   "name": "python",
   "nbconvert_exporter": "python",
   "pygments_lexer": "ipython3",
   "version": "3.10.12"
  }
 },
 "nbformat": 4,
 "nbformat_minor": 5
}
